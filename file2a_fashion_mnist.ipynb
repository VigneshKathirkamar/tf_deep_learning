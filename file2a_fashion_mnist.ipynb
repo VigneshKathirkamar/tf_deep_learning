{
 "cells": [
  {
   "cell_type": "code",
   "execution_count": 2,
   "id": "be434efd",
   "metadata": {},
   "outputs": [],
   "source": [
    "# importing the necessary libraries\n",
    "import tensorflow as tf\n",
    "import numpy as np"
   ]
  },
  {
   "cell_type": "code",
   "execution_count": 3,
   "id": "ce8347f6",
   "metadata": {},
   "outputs": [],
   "source": [
    "# importing the dataset\n",
    "fashion_mnist = tf.keras.datasets.fashion_mnist\n",
    "(train_images,train_labels),(test_images,test_labels) = fashion_mnist.load_data()"
   ]
  },
  {
   "cell_type": "code",
   "execution_count": 4,
   "id": "7f9fdbee",
   "metadata": {},
   "outputs": [],
   "source": [
    "# normalizing the pixel values of train and test images\n",
    "train_images = train_images / 255.0\n",
    "test_images = test_images / 255.0"
   ]
  },
  {
   "cell_type": "code",
   "execution_count": 5,
   "id": "c930c8d9",
   "metadata": {},
   "outputs": [],
   "source": [
    "# building the classification model\n",
    "model = tf.keras.Sequential([\n",
    "        tf.keras.layers.Flatten(input_shape=(28,28)),\n",
    "        tf.keras.layers.Dense(128,activation=tf.nn.relu),\n",
    "        tf.keras.layers.Dense(10,activation=tf.nn.softmax)])"
   ]
  },
  {
   "cell_type": "code",
   "execution_count": 6,
   "id": "f25ae628",
   "metadata": {},
   "outputs": [],
   "source": [
    "model.compile(optimizer='adam',loss='sparse_categorical_crossentropy')"
   ]
  },
  {
   "cell_type": "code",
   "execution_count": 7,
   "id": "a195c2c8",
   "metadata": {},
   "outputs": [
    {
     "name": "stdout",
     "output_type": "stream",
     "text": [
      "Epoch 1/10\n",
      "1875/1875 [==============================] - 1s 666us/step - loss: 0.4970\n",
      "Epoch 2/10\n",
      "1875/1875 [==============================] - 1s 666us/step - loss: 0.3777\n",
      "Epoch 3/10\n",
      "1875/1875 [==============================] - 1s 664us/step - loss: 0.3379\n",
      "Epoch 4/10\n",
      "1875/1875 [==============================] - 1s 670us/step - loss: 0.3121\n",
      "Epoch 5/10\n",
      "1875/1875 [==============================] - 1s 662us/step - loss: 0.2956\n",
      "Epoch 6/10\n",
      "1875/1875 [==============================] - 1s 663us/step - loss: 0.2820\n",
      "Epoch 7/10\n",
      "1875/1875 [==============================] - 1s 683us/step - loss: 0.2682\n",
      "Epoch 8/10\n",
      "1875/1875 [==============================] - 1s 681us/step - loss: 0.2583\n",
      "Epoch 9/10\n",
      "1875/1875 [==============================] - 1s 663us/step - loss: 0.2488\n",
      "Epoch 10/10\n",
      "1875/1875 [==============================] - 1s 669us/step - loss: 0.2375\n"
     ]
    },
    {
     "data": {
      "text/plain": [
       "<keras.callbacks.History at 0x7f59d81ebcc0>"
      ]
     },
     "execution_count": 7,
     "metadata": {},
     "output_type": "execute_result"
    }
   ],
   "source": [
    "model.fit(train_images,train_labels,epochs=10)"
   ]
  },
  {
   "cell_type": "code",
   "execution_count": 8,
   "id": "16c76f25",
   "metadata": {},
   "outputs": [
    {
     "name": "stdout",
     "output_type": "stream",
     "text": [
      "313/313 [==============================] - 0s 536us/step - loss: 0.3431\n"
     ]
    },
    {
     "data": {
      "text/plain": [
       "0.3430873155593872"
      ]
     },
     "execution_count": 8,
     "metadata": {},
     "output_type": "execute_result"
    }
   ],
   "source": [
    "# Evaluation of the model \n",
    "model.evaluate(test_images,test_labels)"
   ]
  },
  {
   "cell_type": "code",
   "execution_count": 9,
   "id": "471184bb",
   "metadata": {},
   "outputs": [
    {
     "name": "stdout",
     "output_type": "stream",
     "text": [
      "tf.Tensor(\n",
      "[0.08541601 0.08537481 0.23136617 0.08537481 0.08550239 0.08537481\n",
      " 0.08546653 0.08537481 0.08537481 0.08537481], shape=(10,), dtype=float32)\n"
     ]
    }
   ],
   "source": [
    "# Testing of the model\n",
    "classification = model.predict(test_images)\n",
    "print(tf.nn.softmax(classification[1]))"
   ]
  },
  {
   "cell_type": "code",
   "execution_count": 14,
   "id": "f550eb9c",
   "metadata": {},
   "outputs": [
    {
     "name": "stdout",
     "output_type": "stream",
     "text": [
      "2\n"
     ]
    }
   ],
   "source": [
    "print(test_labels[1])"
   ]
  },
  {
   "cell_type": "code",
   "execution_count": null,
   "id": "64047561",
   "metadata": {},
   "outputs": [],
   "source": []
  }
 ],
 "metadata": {
  "kernelspec": {
   "display_name": "Python 3",
   "language": "python",
   "name": "python3"
  },
  "language_info": {
   "codemirror_mode": {
    "name": "ipython",
    "version": 3
   },
   "file_extension": ".py",
   "mimetype": "text/x-python",
   "name": "python",
   "nbconvert_exporter": "python",
   "pygments_lexer": "ipython3",
   "version": "3.6.9"
  }
 },
 "nbformat": 4,
 "nbformat_minor": 5
}
